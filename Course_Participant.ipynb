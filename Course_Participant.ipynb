{
 "cells": [
  {
   "cell_type": "markdown",
   "id": "7800bf4c-fb2a-48e2-ab02-4f11f33ba01c",
   "metadata": {},
   "source": [
    "# Welcome to your Computational Seismology-Course\n",
    "\n"
   ]
  },
  {
   "cell_type": "markdown",
   "id": "2d49a7b8-0541-432b-92c3-fb92be776e80",
   "metadata": {},
   "source": [
    "# Start working\n",
    "\n",
    "Please use the following link to pull a copy of our seismo_live_build package from github into your home directory (if you click it a second time it will realize that the content was pulled already and will only check if there are updates in the github repo):\n",
    "\n",
    "- seismo_live_build (notebook version, notebook directory) (https://vm-138-246-236-18.cloud.mwn.de/hub/user-redirect/git-pull?repo=https%3A%2F%2Fgithub.com%2Fkrischer%2Fseismo_live_build&urlpath=tree%2Fseismo_live_build%2Fnotebooks%2F&branch=master)\n"
   ]
  },
  {
   "cell_type": "code",
   "execution_count": null,
   "id": "01ff819c-aaf8-4667-a2c1-5e6b76f81e31",
   "metadata": {},
   "outputs": [],
   "source": []
  },
  {
   "cell_type": "markdown",
   "id": "21462d50-2128-4e9b-a0ab-ea8cab317b59",
   "metadata": {},
   "source": [
    "### Save a copy of your work\n",
    "\n",
    "If you would like to resume working with the contents, you could\n",
    "\n",
    "- use (https://krischer.github.io/seismo_live_build/tree/index.html) to work on a fresh copy of seismo live in binder (a free platform to load jupyter notebooks, links are provided under the given URL).\n",
    "- use Google Colab (https://www.research.google.com/colaboratory) to work on a copy of the repository in your google drive (more persistent, but you have to mount your drive first and clone the github repo to it, you also have to install obspy which is easily done in colab by running `%pip install obspy`)\n",
    "- save your changes and download your work to your PC. You will have to install jupyter, obspy and cartopy to use all notebooks. The easiest way to do so is by installing anaconda (https://www.anaconda.com/products/distribution)\n",
    "- ask if we could prolonge your account\n",
    "\n",
    "\n",
    "### Our Github Repos:\n",
    "\n",
    "- Seismo_live_build contains all Notebooks \n",
    "\n"
   ]
  }
 ],
 "metadata": {
  "kernelspec": {
   "display_name": "Python 3 (ipykernel)",
   "language": "python",
   "name": "python3"
  },
  "language_info": {
   "codemirror_mode": {
    "name": "ipython",
    "version": 3
   },
   "file_extension": ".py",
   "mimetype": "text/x-python",
   "name": "python",
   "nbconvert_exporter": "python",
   "pygments_lexer": "ipython3",
   "version": "3.9.12"
  }
 },
 "nbformat": 4,
 "nbformat_minor": 5
}
